{
 "cells": [
  {
   "cell_type": "code",
   "execution_count": 27,
   "metadata": {},
   "outputs": [],
   "source": [
    "#dataset de potencia\n",
    "import pandas as pd\n",
    "#que horas tiene?\n",
    "#que potencia tiene?\n",
    "\n",
    "dp=pd.read_csv(r\"C:\\Users\\arzua\\OneDrive\\Escritorio\\caracterizacion\\datos.csv\",delimiter=';',encoding='latin1')"
   ]
  },
  {
   "cell_type": "code",
   "execution_count": 35,
   "metadata": {},
   "outputs": [
    {
     "name": "stdout",
     "output_type": "stream",
     "text": [
      "<class 'pandas.core.frame.DataFrame'>\n",
      "RangeIndex: 15706 entries, 0 to 15705\n",
      "Data columns (total 3 columns):\n",
      " #   Column       Non-Null Count  Dtype         \n",
      "---  ------       --------------  -----         \n",
      " 0   fecha        15706 non-null  datetime64[ns]\n",
      " 1   tiempo hora  15706 non-null  object        \n",
      " 2   power        15706 non-null  float64       \n",
      "dtypes: datetime64[ns](1), float64(1), object(1)\n",
      "memory usage: 368.2+ KB\n"
     ]
    }
   ],
   "source": [
    "#pasar a tipo fecha\n",
    "dp['fecha']=pd.to_datetime(dp['fecha'],format='mixed')\n",
    "#comprobar tipo de datos\n",
    "dp.info()\n"
   ]
  },
  {
   "cell_type": "code",
   "execution_count": 36,
   "metadata": {},
   "outputs": [],
   "source": [
    "#pasar cadena hora a formato hora\n",
    "dp['tiempo hora']=pd.to_datetime(dp['tiempo hora'],format='%H:%M:%S')\n"
   ]
  },
  {
   "cell_type": "code",
   "execution_count": 38,
   "metadata": {},
   "outputs": [
    {
     "name": "stdout",
     "output_type": "stream",
     "text": [
      "<class 'pandas.core.frame.DataFrame'>\n",
      "RangeIndex: 15706 entries, 0 to 15705\n",
      "Data columns (total 3 columns):\n",
      " #   Column       Non-Null Count  Dtype         \n",
      "---  ------       --------------  -----         \n",
      " 0   fecha        15706 non-null  datetime64[ns]\n",
      " 1   tiempo hora  15706 non-null  datetime64[ns]\n",
      " 2   power        15706 non-null  float64       \n",
      "dtypes: datetime64[ns](2), float64(1)\n",
      "memory usage: 368.2 KB\n"
     ]
    }
   ],
   "source": [
    "dp.info()"
   ]
  },
  {
   "cell_type": "code",
   "execution_count": 40,
   "metadata": {},
   "outputs": [
    {
     "data": {
      "text/plain": [
       "fecha          datetime64[ns]\n",
       "tiempo hora    datetime64[ns]\n",
       "power                 float64\n",
       "dtype: object"
      ]
     },
     "execution_count": 40,
     "metadata": {},
     "output_type": "execute_result"
    }
   ],
   "source": [
    "dp.dtypes"
   ]
  },
  {
   "cell_type": "code",
   "execution_count": null,
   "metadata": {},
   "outputs": [],
   "source": []
  }
 ],
 "metadata": {
  "kernelspec": {
   "display_name": "Python 3",
   "language": "python",
   "name": "python3"
  },
  "language_info": {
   "codemirror_mode": {
    "name": "ipython",
    "version": 3
   },
   "file_extension": ".py",
   "mimetype": "text/x-python",
   "name": "python",
   "nbconvert_exporter": "python",
   "pygments_lexer": "ipython3",
   "version": "3.11.7"
  }
 },
 "nbformat": 4,
 "nbformat_minor": 2
}
