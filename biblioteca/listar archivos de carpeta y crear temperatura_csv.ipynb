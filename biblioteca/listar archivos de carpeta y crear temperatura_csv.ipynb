{
 "cells": [
  {
   "cell_type": "code",
   "execution_count": 1,
   "metadata": {},
   "outputs": [
    {
     "name": "stdout",
     "output_type": "stream",
     "text": [
      "        Date     Time     TA1   RH1     DP1     PA1  PRSUM1\n",
      "0        NaN      NaN      °C     %      °C     hPa      mm\n",
      "1   1.1.2018   0:1:29    15.8    73    10.9  1031.5    0.00\n",
      "2   1.1.2018   0:2:32    15.8    73    11.0  1031.5    0.00\n",
      "3   1.1.2018   0:4:32    15.8    73    11.0  1031.4    0.00\n",
      "4   1.1.2018  0:13:29    15.7    73    10.9  1031.4    0.00\n",
      "5   1.1.2018  0:24:32    15.6    73    10.8  1031.3    0.00\n",
      "6   1.1.2018  0:30:32    15.5    73    10.8  1031.3    0.00\n",
      "7   1.1.2018  0:34:32    15.5    73    10.8  1031.4    0.00\n",
      "8   1.1.2018  0:36:32    15.5    74    10.8  1031.4    0.00\n",
      "9   1.1.2018  0:38:32    15.5    73    10.8  1031.4    0.00\n",
      "10  1.1.2018  0:40:32    15.5    74    10.8  1031.4    0.00\n",
      "11  1.1.2018  0:42:32    15.4    74    10.7  1031.4    0.00\n",
      "12  1.1.2018  0:46:32    15.4    74    10.7  1031.3    0.00\n",
      "13  1.1.2018  0:49:29    15.3    74    10.6  1031.3    0.00\n",
      "14  1.1.2018  0:52:32    15.3    74    10.7  1031.3    0.00\n",
      "15  1.1.2018  0:54:32    15.3    74    10.6  1031.3    0.00\n",
      "16  1.1.2018  0:57:29    15.2    74    10.5  1031.2    0.00\n",
      "17  1.1.2018  0:58:32    15.2    74    10.6  1031.2    0.00\n",
      "18  1.1.2018   1:0:32    15.1    74    10.5  1031.2    0.00\n",
      "19  1.1.2018   1:2:32    15.1    74    10.5  1031.1    0.00\n",
      "<class 'pandas.core.frame.DataFrame'>\n",
      "RangeIndex: 83635 entries, 0 to 83634\n",
      "Data columns (total 7 columns):\n",
      " #   Column  Non-Null Count  Dtype \n",
      "---  ------  --------------  ----- \n",
      " 0   Date    83423 non-null  object\n",
      " 1   Time    83423 non-null  object\n",
      " 2   TA1     83441 non-null  object\n",
      " 3   RH1     83441 non-null  object\n",
      " 4   DP1     83441 non-null  object\n",
      " 5   PA1     83441 non-null  object\n",
      " 6   PRSUM1  83440 non-null  object\n",
      "dtypes: object(7)\n",
      "memory usage: 4.5+ MB\n"
     ]
    }
   ],
   "source": [
    "import pandas as pd\n",
    "import numpy as np #con esto tienes el scroll que te faltaba antes\n",
    "import os\n",
    "\n",
    "# Ruta de la carpeta que contiene los archivos CSV\n",
    "carpeta = r\"C:\\Users\\arzua\\OneDrive\\Escritorio\\caracterizacion\\PTU\"\n",
    "\n",
    "# Lista para almacenar los DataFrames de cada archivo CSV\n",
    "dataframes = []\n",
    "\n",
    "# Iterar sobre los archivos en la carpeta\n",
    "for archivo in os.listdir(r\"C:\\Users\\arzua\\OneDrive\\Escritorio\\caracterizacion\\PTU\"):\n",
    "    if archivo.endswith('.CSV'):  # Asegúrate de que sean archivos CSV\n",
    "        # Construye la ruta completa al archivo\n",
    "        ruta_completa = os.path.join(carpeta, archivo)\n",
    "        \n",
    "        # Lee el archivo CSV y crea un DataFrame\n",
    "        df = pd.read_csv(ruta_completa,encoding='latin1')\n",
    "        \n",
    "        # Almacena el DataFrame en la lista\n",
    "        dataframes.append(df)\n",
    "\n",
    "# Concatena todos los DataFrames en uno solo\n",
    "df = pd.concat(dataframes, ignore_index=True)\n",
    "\n",
    "# Ahora tienes un solo DataFrame que contiene los datos de todos los archivos CSV en la carpeta\n",
    "print(df.head(20))  # Imprime las primeras filas del DataFrame completo\n",
    "df.info()"
   ]
  },
  {
   "cell_type": "code",
   "execution_count": 10,
   "metadata": {},
   "outputs": [],
   "source": [
    "#comprueba que falta valores de temperatura:\n",
    "df.to_csv('comprueba_temperatura.csv', index=False)\n"
   ]
  },
  {
   "cell_type": "code",
   "execution_count": null,
   "metadata": {},
   "outputs": [],
   "source": [
    "#quita la media cabecera tb... o no la incluyas"
   ]
  },
  {
   "cell_type": "code",
   "execution_count": 2,
   "metadata": {},
   "outputs": [
    {
     "name": "stdout",
     "output_type": "stream",
     "text": [
      "<class 'pandas.core.frame.DataFrame'>\n",
      "RangeIndex: 83635 entries, 0 to 83634\n",
      "Data columns (total 7 columns):\n",
      " #   Column  Non-Null Count  Dtype  \n",
      "---  ------  --------------  -----  \n",
      " 0   Date    83423 non-null  object \n",
      " 1   Time    83423 non-null  object \n",
      " 2   TA1     83216 non-null  float64\n",
      " 3   RH1     83441 non-null  object \n",
      " 4   DP1     83441 non-null  object \n",
      " 5   PA1     83441 non-null  object \n",
      " 6   PRSUM1  83440 non-null  object \n",
      "dtypes: float64(1), object(6)\n",
      "memory usage: 4.5+ MB\n",
      "<class 'pandas.core.frame.DataFrame'>\n",
      "Int64Index: 83215 entries, 1 to 83633\n",
      "Data columns (total 7 columns):\n",
      " #   Column  Non-Null Count  Dtype  \n",
      "---  ------  --------------  -----  \n",
      " 0   Date    83215 non-null  object \n",
      " 1   Time    83215 non-null  object \n",
      " 2   TA1     83215 non-null  float64\n",
      " 3   RH1     83215 non-null  object \n",
      " 4   DP1     83215 non-null  object \n",
      " 5   PA1     83215 non-null  object \n",
      " 6   PRSUM1  83215 non-null  object \n",
      "dtypes: float64(1), object(6)\n",
      "memory usage: 5.1+ MB\n"
     ]
    }
   ],
   "source": [
    "#hay problemas para convertir todos los valores de TA1 a numeros\n",
    "#posiblemente sean cabeceras.\n",
    "#elimina las filas de todas las columnas de los valores de TA1 que no puedas convertir\n",
    "\n",
    "#fuerza la conversion y vuelve nan los que no se pueda.\n",
    "\n",
    "#eso deberia ayudar con date y time combinacion\n",
    "df['TA1'] = pd.to_numeric(df['TA1'], errors='coerce')\n",
    "\n",
    "df.info()\n",
    "#es necesario tirar los nan de las filas en las columnas de fecha time y TA1\n",
    "#He anhadido la lluvia tb porque solo tenia una fila mas.\n",
    "\n",
    "df= df.dropna()\n",
    "#une las columnas Date y Time y vuelvelas tipo datetime\n",
    "\n",
    "df.info()"
   ]
  },
  {
   "cell_type": "code",
   "execution_count": 3,
   "metadata": {},
   "outputs": [],
   "source": [
    "#convierte en datetime las dos columnas\n",
    "#estoy hay que hacerlo despues de tirar las filas con encabezados... \n",
    "#o no.creo que antes de cambiar el timpo de cadena a datetime\n",
    "df['datetime'] = pd.to_datetime(df['Date'] + ' ' + df['Time'],dayfirst=True)\n"
   ]
  },
  {
   "cell_type": "code",
   "execution_count": 4,
   "metadata": {},
   "outputs": [
    {
     "name": "stdout",
     "output_type": "stream",
     "text": [
      "<class 'pandas.core.frame.DataFrame'>\n",
      "Int64Index: 83215 entries, 1 to 83633\n",
      "Data columns (total 8 columns):\n",
      " #   Column    Non-Null Count  Dtype         \n",
      "---  ------    --------------  -----         \n",
      " 0   Date      83215 non-null  object        \n",
      " 1   Time      83215 non-null  object        \n",
      " 2   TA1       83215 non-null  float64       \n",
      " 3   RH1       83215 non-null  object        \n",
      " 4   DP1       83215 non-null  object        \n",
      " 5   PA1       83215 non-null  object        \n",
      " 6   PRSUM1    83215 non-null  object        \n",
      " 7   datetime  83215 non-null  datetime64[ns]\n",
      "dtypes: datetime64[ns](1), float64(1), object(6)\n",
      "memory usage: 5.7+ MB\n"
     ]
    }
   ],
   "source": [
    "df.info()"
   ]
  },
  {
   "cell_type": "code",
   "execution_count": null,
   "metadata": {},
   "outputs": [],
   "source": [
    "#agrupar en intervalos de 10 min\n",
    "\n",
    "#no las convierta antes de unirlas en una sola porque hace falta que sean cadenas.\n",
    "#y hacen falta que sean cadenas convertibles a datatime y desechar als que no.\n",
    "\n",
    "# Convertir la columna 'datetime' al formato datetime si aún no lo está\n",
    "#df['datetime'] = pd.to_datetime(df['datetime'], format='%d/%m/%Y %H:%M:%S')\n"
   ]
  },
  {
   "cell_type": "code",
   "execution_count": null,
   "metadata": {},
   "outputs": [],
   "source": [
    "\n",
    "# Luego, establecer 'datetime' como el índice del DataFrame si aún no lo es\n",
    "#df.set_index('datetime', inplace=True)\n"
   ]
  },
  {
   "cell_type": "code",
   "execution_count": null,
   "metadata": {},
   "outputs": [],
   "source": [
    "df"
   ]
  },
  {
   "cell_type": "code",
   "execution_count": null,
   "metadata": {},
   "outputs": [],
   "source": [
    "\n",
    "\n",
    "# Tornar en indice\n",
    "\n",
    "\n",
    "\n",
    "#df.set_index('datetime', inplace=True)\n"
   ]
  },
  {
   "cell_type": "code",
   "execution_count": null,
   "metadata": {},
   "outputs": [],
   "source": [
    "\n",
    "# Ahora agrupar los datos en intervalos de 10 minutos y calcular la media de 'TA1'\n",
    "#df_agrupado = df.groupby(pd.Grouper(freq='10Min')).agg({'TA1': 'mean'}).reset_index()\n"
   ]
  },
  {
   "cell_type": "code",
   "execution_count": null,
   "metadata": {},
   "outputs": [],
   "source": [
    "#print(df_agrupado.head())\n",
    "#df_agrupado.info()\n"
   ]
  },
  {
   "cell_type": "code",
   "execution_count": null,
   "metadata": {},
   "outputs": [],
   "source": [
    "#llevatelo\n",
    "#df_agrupado.to_csv('temperatura.csv', index=False)\n"
   ]
  },
  {
   "cell_type": "code",
   "execution_count": null,
   "metadata": {},
   "outputs": [],
   "source": [
    "#df_agrupado.info()"
   ]
  },
  {
   "cell_type": "code",
   "execution_count": null,
   "metadata": {},
   "outputs": [],
   "source": [
    "#problemas que he tenido. \n",
    "#1 necesitas que el datetime tenga ese formato y no otro. ademas tiene que ser indice.\n",
    "#2 Solo puedes unir date y time si son cadenas pero tienes que comprobar \n",
    "# que son cadenas transformables a datetime.Tira las que no lo sean.\n",
    "#otros: CVS en mayuscula y enconding a 'latin1' "
   ]
  },
  {
   "cell_type": "code",
   "execution_count": 12,
   "metadata": {},
   "outputs": [],
   "source": [
    "\n",
    "\n",
    "#cambia el primero a 00 para que sea cada 10 min como el de potencia...\n",
    "\n",
    "df.at[1, 'datetime'] = '1.1.2018 00:00:00'"
   ]
  },
  {
   "cell_type": "code",
   "execution_count": 13,
   "metadata": {},
   "outputs": [],
   "source": [
    "\n",
    "# Primero, asegúrate de que la columna 'datetime' sea de tipo datetime\n",
    "df['datetime'] = pd.to_datetime(df['datetime'],dayfirst=True)\n"
   ]
  },
  {
   "cell_type": "code",
   "execution_count": 16,
   "metadata": {},
   "outputs": [],
   "source": [
    "\n",
    "# Luego, define tus propios límites de tiempo para los grupos\n",
    "# Por ejemplo, podrías crear intervalos de 10 minutos desde el mínimo hasta el máximo de 'datetime'\n",
    "min_datetime = df['datetime'].min()\n",
    "max_datetime = '20/04/2018 11:10'\n",
    "bins = pd.date_range(start=min_datetime, end=max_datetime, freq='10Min')\n",
    "\n",
    "# Utiliza pd.cut() para asignar cada fila a un intervalo de tiempo\n",
    "df['intervalo'] = pd.cut(df['datetime'], bins=bins)\n",
    "\n",
    "# Ahora puedes agrupar por el intervalo y calcular la media de 'TA1'\n",
    "df_agrupado = df.groupby('intervalo').agg({'TA1': 'mean'}).reset_index()\n"
   ]
  },
  {
   "cell_type": "code",
   "execution_count": 17,
   "metadata": {},
   "outputs": [
    {
     "name": "stdout",
     "output_type": "stream",
     "text": [
      "<class 'pandas.core.frame.DataFrame'>\n",
      "RangeIndex: 15763 entries, 0 to 15762\n",
      "Data columns (total 2 columns):\n",
      " #   Column     Non-Null Count  Dtype   \n",
      "---  ------     --------------  -----   \n",
      " 0   intervalo  15763 non-null  category\n",
      " 1   TA1        12391 non-null  float64 \n",
      "dtypes: category(1), float64(1)\n",
      "memory usage: 916.4 KB\n"
     ]
    },
    {
     "data": {
      "text/html": [
       "<div>\n",
       "<style scoped>\n",
       "    .dataframe tbody tr th:only-of-type {\n",
       "        vertical-align: middle;\n",
       "    }\n",
       "\n",
       "    .dataframe tbody tr th {\n",
       "        vertical-align: top;\n",
       "    }\n",
       "\n",
       "    .dataframe thead th {\n",
       "        text-align: right;\n",
       "    }\n",
       "</style>\n",
       "<table border=\"1\" class=\"dataframe\">\n",
       "  <thead>\n",
       "    <tr style=\"text-align: right;\">\n",
       "      <th></th>\n",
       "      <th>intervalo</th>\n",
       "      <th>TA1</th>\n",
       "    </tr>\n",
       "  </thead>\n",
       "  <tbody>\n",
       "    <tr>\n",
       "      <th>0</th>\n",
       "      <td>(2018-01-01, 2018-01-01 00:10:00]</td>\n",
       "      <td>15.80</td>\n",
       "    </tr>\n",
       "    <tr>\n",
       "      <th>1</th>\n",
       "      <td>(2018-01-01 00:10:00, 2018-01-01 00:20:00]</td>\n",
       "      <td>15.70</td>\n",
       "    </tr>\n",
       "    <tr>\n",
       "      <th>2</th>\n",
       "      <td>(2018-01-01 00:20:00, 2018-01-01 00:30:00]</td>\n",
       "      <td>15.60</td>\n",
       "    </tr>\n",
       "    <tr>\n",
       "      <th>3</th>\n",
       "      <td>(2018-01-01 00:30:00, 2018-01-01 00:40:00]</td>\n",
       "      <td>15.50</td>\n",
       "    </tr>\n",
       "    <tr>\n",
       "      <th>4</th>\n",
       "      <td>(2018-01-01 00:40:00, 2018-01-01 00:50:00]</td>\n",
       "      <td>15.40</td>\n",
       "    </tr>\n",
       "    <tr>\n",
       "      <th>...</th>\n",
       "      <td>...</td>\n",
       "      <td>...</td>\n",
       "    </tr>\n",
       "    <tr>\n",
       "      <th>15758</th>\n",
       "      <td>(2018-04-20 10:20:00, 2018-04-20 10:30:00]</td>\n",
       "      <td>16.28</td>\n",
       "    </tr>\n",
       "    <tr>\n",
       "      <th>15759</th>\n",
       "      <td>(2018-04-20 10:30:00, 2018-04-20 10:40:00]</td>\n",
       "      <td>16.06</td>\n",
       "    </tr>\n",
       "    <tr>\n",
       "      <th>15760</th>\n",
       "      <td>(2018-04-20 10:40:00, 2018-04-20 10:50:00]</td>\n",
       "      <td>15.88</td>\n",
       "    </tr>\n",
       "    <tr>\n",
       "      <th>15761</th>\n",
       "      <td>(2018-04-20 10:50:00, 2018-04-20 11:00:00]</td>\n",
       "      <td>15.94</td>\n",
       "    </tr>\n",
       "    <tr>\n",
       "      <th>15762</th>\n",
       "      <td>(2018-04-20 11:00:00, 2018-04-20 11:10:00]</td>\n",
       "      <td>15.80</td>\n",
       "    </tr>\n",
       "  </tbody>\n",
       "</table>\n",
       "<p>15763 rows × 2 columns</p>\n",
       "</div>"
      ],
      "text/plain": [
       "                                        intervalo    TA1\n",
       "0               (2018-01-01, 2018-01-01 00:10:00]  15.80\n",
       "1      (2018-01-01 00:10:00, 2018-01-01 00:20:00]  15.70\n",
       "2      (2018-01-01 00:20:00, 2018-01-01 00:30:00]  15.60\n",
       "3      (2018-01-01 00:30:00, 2018-01-01 00:40:00]  15.50\n",
       "4      (2018-01-01 00:40:00, 2018-01-01 00:50:00]  15.40\n",
       "...                                           ...    ...\n",
       "15758  (2018-04-20 10:20:00, 2018-04-20 10:30:00]  16.28\n",
       "15759  (2018-04-20 10:30:00, 2018-04-20 10:40:00]  16.06\n",
       "15760  (2018-04-20 10:40:00, 2018-04-20 10:50:00]  15.88\n",
       "15761  (2018-04-20 10:50:00, 2018-04-20 11:00:00]  15.94\n",
       "15762  (2018-04-20 11:00:00, 2018-04-20 11:10:00]  15.80\n",
       "\n",
       "[15763 rows x 2 columns]"
      ]
     },
     "execution_count": 17,
     "metadata": {},
     "output_type": "execute_result"
    }
   ],
   "source": [
    "df_agrupado.info()\n",
    "df_agrupado"
   ]
  },
  {
   "cell_type": "code",
   "execution_count": 19,
   "metadata": {},
   "outputs": [],
   "source": [
    "df_agrupado.to_csv('temperatura_intervalo.csv', index=False)\n"
   ]
  },
  {
   "cell_type": "code",
   "execution_count": null,
   "metadata": {},
   "outputs": [],
   "source": []
  }
 ],
 "metadata": {
  "kernelspec": {
   "display_name": "Python 3",
   "language": "python",
   "name": "python3"
  },
  "language_info": {
   "codemirror_mode": {
    "name": "ipython",
    "version": 3
   },
   "file_extension": ".py",
   "mimetype": "text/x-python",
   "name": "python",
   "nbconvert_exporter": "python",
   "pygments_lexer": "ipython3",
   "version": "3.10.9"
  }
 },
 "nbformat": 4,
 "nbformat_minor": 2
}
